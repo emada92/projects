{
 "cells": [
  {
   "cell_type": "code",
   "execution_count": 1,
   "metadata": {},
   "outputs": [],
   "source": [
    "def gra():\n",
    "    board = [1,2,3,4,5,6,7,8,9]\n",
    "    \n",
    "    choice1 = input(\"Player 1 - X or Y ?: \")\n",
    "        \n",
    "    while choice1 not in ['X', 'x', 'Y', 'y']:\n",
    "        choice1 = input(\"Player 1 - X or Y ?: \")\n",
    "    \n",
    "    if choice1 in ['X','x']:\n",
    "        choice1 = 'X'\n",
    "        choice2 = 'Y'\n",
    "    else:\n",
    "        choice1 = 'Y'\n",
    "        choice2 = 'X'\n",
    "            \n",
    "    for i in range(9):\n",
    "        if board[6] == board[7] == board[8]:\n",
    "            print('KONIEC')\n",
    "            break\n",
    "        elif board[3] == board[4] == board[5]:\n",
    "            print('KONIEC')\n",
    "            break\n",
    "        elif board[0] == board[1] == board[2]:\n",
    "            print('KONIEC')\n",
    "            break\n",
    "        elif board[6] == board[3] == board[0]:\n",
    "            print('KONIEC')\n",
    "            break\n",
    "        elif board[7] == board[4] == board[1]:\n",
    "            print('KONIEC')\n",
    "            break\n",
    "        elif board[8] == board[5] == board[2]:\n",
    "            print('KONIEC')\n",
    "            break\n",
    "        elif board[6] == board[4] == board[2]:\n",
    "            print('KONIEC')\n",
    "            break\n",
    "        elif board[0] == board[4] == board[8]:\n",
    "            print('KONIEC')\n",
    "            break\n",
    "        else:\n",
    "            result1 = int(input(\"P1, Please enter a number: \"))\n",
    "            \n",
    "            \n",
    "            board[result1 - 1]  = choice1 \n",
    "            \n",
    "            print(board[6],board[7],board[8])\n",
    "            print(board[3],board[4],board[5])\n",
    "            print(board[0],board[1],board[2])\n",
    "        \n",
    "            result2 = int(input(\"P2, Please enter a number: \"))\n",
    "\n",
    "\n",
    "            board[result2 - 1]  = choice2 \n",
    "            \n",
    "            print(board[6],board[7],board[8])\n",
    "            print(board[3],board[4],board[5])\n",
    "            print(board[0],board[1],board[2])"
   ]
  },
  {
   "cell_type": "code",
   "execution_count": null,
   "metadata": {},
   "outputs": [
    {
     "name": "stdout",
     "output_type": "stream",
     "text": [
      "Player 1 - X or Y ?: X\n",
      "8\n"
     ]
    }
   ],
   "source": [
    "gra()"
   ]
  }
 ],
 "metadata": {
  "kernelspec": {
   "display_name": "Python 3",
   "language": "python",
   "name": "python3"
  },
  "language_info": {
   "codemirror_mode": {
    "name": "ipython",
    "version": 3
   },
   "file_extension": ".py",
   "mimetype": "text/x-python",
   "name": "python",
   "nbconvert_exporter": "python",
   "pygments_lexer": "ipython3",
   "version": "3.7.6"
  }
 },
 "nbformat": 4,
 "nbformat_minor": 4
}
