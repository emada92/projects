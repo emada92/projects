{
 "cells": [
  {
   "cell_type": "code",
   "execution_count": 93,
   "metadata": {},
   "outputs": [],
   "source": [
    "import json \n",
    "import numpy as np\n",
    "from pycocotools.coco import COCO\n",
    "import numpy as np\n",
    "import skimage.io as io\n",
    "from matplotlib import pyplot as plt, patches\n",
    "import random\n",
    "import tensorflow as tf\n",
    "\n",
    "def save_random_coco_images(num_of_images, category):\n",
    "    for i in range(num_of_images):\n",
    "        dataType='val2017'\n",
    "        annFile='C:/Users/emila/annotations/instances_{}.json'.format(dataType);\n",
    "        coco=COCO(annFile);    \n",
    "        catIds = coco.getCatIds(catNms=[category]);\n",
    "        img_id_list = coco.getImgIds(catIds = catIds );\n",
    "        img_id = int(np.random.choice(img_id_list));\n",
    "        img = coco.loadImgs(img_id)[0];\n",
    "        \n",
    "        #draw bouding boxes\n",
    "        annIds = coco.getAnnIds(imgIds=img['id']);\n",
    "        anns = coco.loadAnns(annIds)[0];\n",
    "        bbox = anns['bbox'];\n",
    "        \n",
    "        x, y, w, h = bbox[0], bbox[1], bbox[2], bbox[3];\n",
    "\n",
    "        I = io.imread(img['coco_url']);\n",
    "        \n",
    "        fig, ax = plt.subplots(1);\n",
    "        rect = patches.Rectangle((x, y), w, h, fill=False, edgecolor='r');\n",
    "        ax.imshow(I);\n",
    "        ax.add_patch(rect);\n",
    "        plt.savefig(f'mygraph_{category}{i}.png');"
   ]
  }
 ],
 "metadata": {
  "kernelspec": {
   "display_name": "Python 3",
   "language": "python",
   "name": "python3"
  },
  "language_info": {
   "codemirror_mode": {
    "name": "ipython",
    "version": 3
   },
   "file_extension": ".py",
   "mimetype": "text/x-python",
   "name": "python",
   "nbconvert_exporter": "python",
   "pygments_lexer": "ipython3",
   "version": "3.7.6"
  }
 },
 "nbformat": 4,
 "nbformat_minor": 4
}
