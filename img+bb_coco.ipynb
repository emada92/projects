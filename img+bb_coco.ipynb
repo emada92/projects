{
 "cells": [
  {
   "cell_type": "code",
   "execution_count": 156,
   "metadata": {},
   "outputs": [],
   "source": [
    "import json \n",
    "import numpy as np\n",
    "from pycocotools.coco import COCO\n",
    "import numpy as np\n",
    "import skimage.io as io\n",
    "import matplotlib.pyplot as plt\n",
    "import matplotlib.patches as patches\n",
    "\n",
    "\n",
    "def save_random_coco_images(num_of_images, category):\n",
    "    for i in range(num_of_images):\n",
    "        dataType='val2017';\n",
    "        annFile='C:/Users/emila/annotations/instances_{}.json'.format(dataType);\n",
    "        coco=COCO(annFile);        \n",
    "        catIds = coco.getCatIds(catNms=[category]);\n",
    "        img_id_list = coco.getImgIds(catIds=catIds);\n",
    "        img_id = int(img_id_list[np.random.randint(1, len(img_id_list))]);\n",
    "        annIds = coco.getAnnIds(imgIds=img_id);\n",
    "        anns = coco.loadAnns(annIds);\n",
    "        img = coco.loadImgs(img_id);\n",
    "\n",
    "# draw bounding boxes on saved images"
   ]
  }
 ],
 "metadata": {
  "kernelspec": {
   "display_name": "Python 3",
   "language": "python",
   "name": "python3"
  },
  "language_info": {
   "codemirror_mode": {
    "name": "ipython",
    "version": 3
   },
   "file_extension": ".py",
   "mimetype": "text/x-python",
   "name": "python",
   "nbconvert_exporter": "python",
   "pygments_lexer": "ipython3",
   "version": "3.7.6"
  }
 },
 "nbformat": 4,
 "nbformat_minor": 4
}
