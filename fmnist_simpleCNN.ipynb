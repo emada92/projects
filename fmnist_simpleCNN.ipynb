{
  "nbformat": 4,
  "nbformat_minor": 0,
  "metadata": {
    "colab": {
      "name": "fmnist_simpleCNN.ipynb",
      "provenance": [],
      "collapsed_sections": []
    },
    "kernelspec": {
      "name": "python3",
      "display_name": "Python 3"
    },
    "accelerator": "GPU"
  },
  "cells": [
    {
      "cell_type": "code",
      "metadata": {
        "colab": {
          "base_uri": "https://localhost:8080/"
        },
        "id": "D98cUxLz9F1Z",
        "outputId": "f423cb62-8e48-44cf-fa54-f650a4043296"
      },
      "source": [
        "import tensorflow as tf\r\n",
        "import numpy as np\r\n",
        "import matplotlib.pyplot as plt\r\n",
        "\r\n",
        "# Load the fashion-mnist pre-shuffled train data and test data\r\n",
        "(x_train, y_train), (x_test, y_test) = tf.keras.datasets.fashion_mnist.load_data()\r\n",
        "\r\n",
        "print(\"x_train shape:\", x_train.shape, \"y_train shape:\", y_train.shape)"
      ],
      "execution_count": null,
      "outputs": [
        {
          "output_type": "stream",
          "text": [
            "Requirement already satisfied: tensorflow in /usr/local/lib/python3.6/dist-packages (2.4.0)\n",
            "Requirement already satisfied: wheel~=0.35 in /usr/local/lib/python3.6/dist-packages (from tensorflow) (0.36.2)\n",
            "Requirement already satisfied: google-pasta~=0.2 in /usr/local/lib/python3.6/dist-packages (from tensorflow) (0.2.0)\n",
            "Requirement already satisfied: termcolor~=1.1.0 in /usr/local/lib/python3.6/dist-packages (from tensorflow) (1.1.0)\n",
            "Requirement already satisfied: typing-extensions~=3.7.4 in /usr/local/lib/python3.6/dist-packages (from tensorflow) (3.7.4.3)\n",
            "Requirement already satisfied: numpy~=1.19.2 in /usr/local/lib/python3.6/dist-packages (from tensorflow) (1.19.5)\n",
            "Requirement already satisfied: absl-py~=0.10 in /usr/local/lib/python3.6/dist-packages (from tensorflow) (0.10.0)\n",
            "Requirement already satisfied: astunparse~=1.6.3 in /usr/local/lib/python3.6/dist-packages (from tensorflow) (1.6.3)\n",
            "Requirement already satisfied: gast==0.3.3 in /usr/local/lib/python3.6/dist-packages (from tensorflow) (0.3.3)\n",
            "Requirement already satisfied: tensorboard~=2.4 in /usr/local/lib/python3.6/dist-packages (from tensorflow) (2.4.0)\n",
            "Requirement already satisfied: keras-preprocessing~=1.1.2 in /usr/local/lib/python3.6/dist-packages (from tensorflow) (1.1.2)\n",
            "Requirement already satisfied: flatbuffers~=1.12.0 in /usr/local/lib/python3.6/dist-packages (from tensorflow) (1.12)\n",
            "Requirement already satisfied: wrapt~=1.12.1 in /usr/local/lib/python3.6/dist-packages (from tensorflow) (1.12.1)\n",
            "Requirement already satisfied: h5py~=2.10.0 in /usr/local/lib/python3.6/dist-packages (from tensorflow) (2.10.0)\n",
            "Requirement already satisfied: tensorflow-estimator<2.5.0,>=2.4.0rc0 in /usr/local/lib/python3.6/dist-packages (from tensorflow) (2.4.0)\n",
            "Requirement already satisfied: grpcio~=1.32.0 in /usr/local/lib/python3.6/dist-packages (from tensorflow) (1.32.0)\n",
            "Requirement already satisfied: opt-einsum~=3.3.0 in /usr/local/lib/python3.6/dist-packages (from tensorflow) (3.3.0)\n",
            "Requirement already satisfied: protobuf>=3.9.2 in /usr/local/lib/python3.6/dist-packages (from tensorflow) (3.12.4)\n",
            "Requirement already satisfied: six~=1.15.0 in /usr/local/lib/python3.6/dist-packages (from tensorflow) (1.15.0)\n",
            "Requirement already satisfied: google-auth-oauthlib<0.5,>=0.4.1 in /usr/local/lib/python3.6/dist-packages (from tensorboard~=2.4->tensorflow) (0.4.2)\n",
            "Requirement already satisfied: requests<3,>=2.21.0 in /usr/local/lib/python3.6/dist-packages (from tensorboard~=2.4->tensorflow) (2.23.0)\n",
            "Requirement already satisfied: werkzeug>=0.11.15 in /usr/local/lib/python3.6/dist-packages (from tensorboard~=2.4->tensorflow) (1.0.1)\n",
            "Requirement already satisfied: markdown>=2.6.8 in /usr/local/lib/python3.6/dist-packages (from tensorboard~=2.4->tensorflow) (3.3.3)\n",
            "Requirement already satisfied: google-auth<2,>=1.6.3 in /usr/local/lib/python3.6/dist-packages (from tensorboard~=2.4->tensorflow) (1.17.2)\n",
            "Requirement already satisfied: setuptools>=41.0.0 in /usr/local/lib/python3.6/dist-packages (from tensorboard~=2.4->tensorflow) (51.3.3)\n",
            "Requirement already satisfied: tensorboard-plugin-wit>=1.6.0 in /usr/local/lib/python3.6/dist-packages (from tensorboard~=2.4->tensorflow) (1.7.0)\n",
            "Requirement already satisfied: requests-oauthlib>=0.7.0 in /usr/local/lib/python3.6/dist-packages (from google-auth-oauthlib<0.5,>=0.4.1->tensorboard~=2.4->tensorflow) (1.3.0)\n",
            "Requirement already satisfied: idna<3,>=2.5 in /usr/local/lib/python3.6/dist-packages (from requests<3,>=2.21.0->tensorboard~=2.4->tensorflow) (2.10)\n",
            "Requirement already satisfied: certifi>=2017.4.17 in /usr/local/lib/python3.6/dist-packages (from requests<3,>=2.21.0->tensorboard~=2.4->tensorflow) (2020.12.5)\n",
            "Requirement already satisfied: urllib3!=1.25.0,!=1.25.1,<1.26,>=1.21.1 in /usr/local/lib/python3.6/dist-packages (from requests<3,>=2.21.0->tensorboard~=2.4->tensorflow) (1.24.3)\n",
            "Requirement already satisfied: chardet<4,>=3.0.2 in /usr/local/lib/python3.6/dist-packages (from requests<3,>=2.21.0->tensorboard~=2.4->tensorflow) (3.0.4)\n",
            "Requirement already satisfied: importlib-metadata; python_version < \"3.8\" in /usr/local/lib/python3.6/dist-packages (from markdown>=2.6.8->tensorboard~=2.4->tensorflow) (3.3.0)\n",
            "Requirement already satisfied: rsa<5,>=3.1.4; python_version >= \"3\" in /usr/local/lib/python3.6/dist-packages (from google-auth<2,>=1.6.3->tensorboard~=2.4->tensorflow) (4.6)\n",
            "Requirement already satisfied: pyasn1-modules>=0.2.1 in /usr/local/lib/python3.6/dist-packages (from google-auth<2,>=1.6.3->tensorboard~=2.4->tensorflow) (0.2.8)\n",
            "Requirement already satisfied: cachetools<5.0,>=2.0.0 in /usr/local/lib/python3.6/dist-packages (from google-auth<2,>=1.6.3->tensorboard~=2.4->tensorflow) (4.2.0)\n",
            "Requirement already satisfied: oauthlib>=3.0.0 in /usr/local/lib/python3.6/dist-packages (from requests-oauthlib>=0.7.0->google-auth-oauthlib<0.5,>=0.4.1->tensorboard~=2.4->tensorflow) (3.1.0)\n",
            "Requirement already satisfied: zipp>=0.5 in /usr/local/lib/python3.6/dist-packages (from importlib-metadata; python_version < \"3.8\"->markdown>=2.6.8->tensorboard~=2.4->tensorflow) (3.4.0)\n",
            "Requirement already satisfied: pyasn1>=0.1.3 in /usr/local/lib/python3.6/dist-packages (from rsa<5,>=3.1.4; python_version >= \"3\"->google-auth<2,>=1.6.3->tensorboard~=2.4->tensorflow) (0.4.8)\n",
            "x_train shape: (60000, 28, 28) y_train shape: (60000,)\n"
          ],
          "name": "stdout"
        }
      ]
    },
    {
      "cell_type": "code",
      "metadata": {
        "colab": {
          "base_uri": "https://localhost:8080/"
        },
        "id": "gjFuFJe99UIw",
        "outputId": "31ea0807-ee6c-4469-9a77-8d6a35f62b33"
      },
      "source": [
        "print(x_train.shape[0], \"x_train\")\r\n",
        "print(x_test.shape[0], \"x_test\")"
      ],
      "execution_count": null,
      "outputs": [
        {
          "output_type": "stream",
          "text": [
            "60000 x_train\n",
            "10000 x_test\n"
          ],
          "name": "stdout"
        }
      ]
    },
    {
      "cell_type": "code",
      "metadata": {
        "id": "lJAaPmqf9YJl"
      },
      "source": [
        "# Define the text labels\r\n",
        "fashion_mnist_labels = [\"T-shirt/top\",  # index 0\r\n",
        "                        \"Trouser\",      # index 1\r\n",
        "                        \"Pullover\",     # index 2 \r\n",
        "                        \"Dress\",        # index 3 \r\n",
        "                        \"Coat\",         # index 4\r\n",
        "                        \"Sandal\",       # index 5\r\n",
        "                        \"Shirt\",        # index 6 \r\n",
        "                        \"Sneaker\",      # index 7 \r\n",
        "                        \"Bag\",          # index 8 \r\n",
        "                        \"Ankle boot\"]   # index 9"
      ],
      "execution_count": null,
      "outputs": []
    },
    {
      "cell_type": "code",
      "metadata": {
        "id": "hHFCemHN9aUs"
      },
      "source": [
        "# Data normalization\r\n",
        "x_train = x_train.astype('float32') / 255\r\n",
        "x_test = x_test.astype('float32') / 255"
      ],
      "execution_count": null,
      "outputs": []
    },
    {
      "cell_type": "code",
      "metadata": {
        "id": "PGeBRxJR9dXN"
      },
      "source": [
        "# Further break training data into train / validation sets \r\n",
        "# Put 5000 into validation set and keep remaining 55 000 for train\r\n",
        "\r\n",
        "(x_valid, x_train) = x_train[:5000], x_train[5000:]\r\n",
        "(y_valid, y_train) = y_train[:5000], y_train[5000:]"
      ],
      "execution_count": null,
      "outputs": []
    },
    {
      "cell_type": "code",
      "metadata": {
        "id": "Clr_CAY49jFF"
      },
      "source": [
        "# Reshape input to 28,28,1\r\n",
        "w, h = 28, 28\r\n",
        "x_train = x_train.reshape(x_train.shape[0], w, h, 1)\r\n",
        "x_valid = x_valid.reshape(x_valid.shape[0], w, h, 1)\r\n",
        "x_test = x_test.reshape(x_test.shape[0], w, h, 1)"
      ],
      "execution_count": null,
      "outputs": []
    },
    {
      "cell_type": "code",
      "metadata": {
        "id": "-EMp23QX92Sl"
      },
      "source": [
        "from tensorflow.keras.models import Sequential\r\n",
        "from tensorflow.keras.layers import Conv2D, MaxPooling2D, Dense, Flatten\r\n",
        "\r\n",
        "num_filters = 8\r\n",
        "filter_size = 3\r\n",
        "pool_size = 2\r\n",
        "\r\n",
        "model = Sequential([\r\n",
        "    Conv2D(num_filters, filter_size, input_shape = (28,28,1)),\r\n",
        "    MaxPooling2D(pool_size),\r\n",
        "    Flatten(),\r\n",
        "    Dense(10, activation = 'softmax'),\r\n",
        "])\r\n"
      ],
      "execution_count": null,
      "outputs": []
    },
    {
      "cell_type": "code",
      "metadata": {
        "id": "UVJqGS3h946p"
      },
      "source": [
        "model.compile(\r\n",
        "  'adam',\r\n",
        "  loss='categorical_crossentropy',\r\n",
        "  metrics=['accuracy'],\r\n",
        ")"
      ],
      "execution_count": null,
      "outputs": []
    },
    {
      "cell_type": "code",
      "metadata": {
        "colab": {
          "base_uri": "https://localhost:8080/"
        },
        "id": "Tv9okIXt_FKu",
        "outputId": "186b35ec-d9e5-4118-ce1e-5eeae92c8c24"
      },
      "source": [
        "from tensorflow.keras.utils import to_categorical\r\n",
        "\r\n",
        "model.fit(x_train,\r\n",
        "          to_categorical(y_train),\r\n",
        "          epochs=3,\r\n",
        "          validation_data=(x_valid, to_categorical(y_valid)))"
      ],
      "execution_count": null,
      "outputs": [
        {
          "output_type": "stream",
          "text": [
            "Epoch 1/3\n",
            "1719/1719 [==============================] - 7s 3ms/step - loss: 0.7018 - accuracy: 0.7531 - val_loss: 0.4046 - val_accuracy: 0.8634\n",
            "Epoch 2/3\n",
            "1719/1719 [==============================] - 5s 3ms/step - loss: 0.4047 - accuracy: 0.8594 - val_loss: 0.3754 - val_accuracy: 0.8704\n",
            "Epoch 3/3\n",
            "1719/1719 [==============================] - 5s 3ms/step - loss: 0.3639 - accuracy: 0.8740 - val_loss: 0.3494 - val_accuracy: 0.8826\n"
          ],
          "name": "stdout"
        },
        {
          "output_type": "execute_result",
          "data": {
            "text/plain": [
              "<tensorflow.python.keras.callbacks.History at 0x7f3103102588>"
            ]
          },
          "metadata": {
            "tags": []
          },
          "execution_count": 9
        }
      ]
    },
    {
      "cell_type": "code",
      "metadata": {
        "id": "hEadY8a7BAYN"
      },
      "source": [
        "# Predict model on first 5 images\r\n",
        "\r\n",
        "predictions = model.predict (x_test[:5])"
      ],
      "execution_count": null,
      "outputs": []
    },
    {
      "cell_type": "code",
      "metadata": {
        "colab": {
          "base_uri": "https://localhost:8080/"
        },
        "id": "f0Fik2WiASFv",
        "outputId": "dbd99e7b-c52c-44a8-dd04-d56f60933423"
      },
      "source": [
        "print(np.argmax(predictions, axis=1))"
      ],
      "execution_count": null,
      "outputs": [
        {
          "output_type": "stream",
          "text": [
            "[9 2 1 1 6]\n"
          ],
          "name": "stdout"
        }
      ]
    },
    {
      "cell_type": "code",
      "metadata": {
        "colab": {
          "base_uri": "https://localhost:8080/"
        },
        "id": "ddLmQrMKAYwr",
        "outputId": "69a8ed9b-27d3-453a-93c5-46d6a06a847a"
      },
      "source": [
        "print(y_test[:5])"
      ],
      "execution_count": null,
      "outputs": [
        {
          "output_type": "stream",
          "text": [
            "[9 2 1 1 6]\n"
          ],
          "name": "stdout"
        }
      ]
    },
    {
      "cell_type": "code",
      "metadata": {
        "id": "zctEPa4mAivm"
      },
      "source": [
        "# Add one more conv layer\r\n",
        "\r\n",
        "model = Sequential([\r\n",
        "                    Conv2D(num_filters, filter_size, input_shape=(28,28,1)),\r\n",
        "                    Conv2D(num_filters, filter_size),\r\n",
        "                    MaxPooling2D(pool_size),\r\n",
        "                    Flatten(),\r\n",
        "                    Dense(10, activation='softmax'),\r\n",
        "])"
      ],
      "execution_count": null,
      "outputs": []
    },
    {
      "cell_type": "code",
      "metadata": {
        "id": "LKxUEk0mCMA4"
      },
      "source": [
        "model.compile(\r\n",
        "  'adam',\r\n",
        "  loss='categorical_crossentropy',\r\n",
        "  metrics=['accuracy'],\r\n",
        ")"
      ],
      "execution_count": null,
      "outputs": []
    },
    {
      "cell_type": "code",
      "metadata": {
        "colab": {
          "base_uri": "https://localhost:8080/"
        },
        "id": "pO6tMPPDBy1c",
        "outputId": "6d0411e8-8c43-4bcc-e6f6-ea4a9def98bf"
      },
      "source": [
        "model.fit(x_train,\r\n",
        "          to_categorical(y_train),\r\n",
        "          epochs=3,\r\n",
        "          validation_data=(x_valid, to_categorical(y_valid))\r\n",
        "          )"
      ],
      "execution_count": null,
      "outputs": [
        {
          "output_type": "stream",
          "text": [
            "Epoch 1/3\n",
            "1719/1719 [==============================] - 5s 3ms/step - loss: 0.6607 - accuracy: 0.7677 - val_loss: 0.3986 - val_accuracy: 0.8644\n",
            "Epoch 2/3\n",
            "1719/1719 [==============================] - 5s 3ms/step - loss: 0.3821 - accuracy: 0.8666 - val_loss: 0.3623 - val_accuracy: 0.8802\n",
            "Epoch 3/3\n",
            "1719/1719 [==============================] - 5s 3ms/step - loss: 0.3424 - accuracy: 0.8780 - val_loss: 0.3408 - val_accuracy: 0.8854\n"
          ],
          "name": "stdout"
        },
        {
          "output_type": "execute_result",
          "data": {
            "text/plain": [
              "<tensorflow.python.keras.callbacks.History at 0x7f30a82cf198>"
            ]
          },
          "metadata": {
            "tags": []
          },
          "execution_count": 15
        }
      ]
    },
    {
      "cell_type": "code",
      "metadata": {
        "id": "hLZkWiKpCI-b"
      },
      "source": [
        "#dropout layers to protect from ovefitting\r\n",
        "from tensorflow.keras.layers import Dropout\r\n",
        "\r\n",
        "model = Sequential([\r\n",
        "                    Conv2D(num_filters, filter_size, input_shape=(28,28,1)),\r\n",
        "                    MaxPooling2D(pool_size),\r\n",
        "                    Dropout(0.5),\r\n",
        "                    Flatten(),\r\n",
        "                    Dense(10, activation='softmax'),\r\n",
        "])"
      ],
      "execution_count": null,
      "outputs": []
    },
    {
      "cell_type": "code",
      "metadata": {
        "id": "IVRNY6lVDIth"
      },
      "source": [
        "model.compile(\r\n",
        "  'adam',\r\n",
        "  loss='categorical_crossentropy',\r\n",
        "  metrics=['accuracy'],\r\n",
        ")"
      ],
      "execution_count": null,
      "outputs": []
    },
    {
      "cell_type": "code",
      "metadata": {
        "colab": {
          "base_uri": "https://localhost:8080/"
        },
        "id": "EpFsM-cKDO9i",
        "outputId": "3252d111-3eaa-486c-f96c-55c14ad5490c"
      },
      "source": [
        "model.fit(x_train,\r\n",
        "          to_categorical(y_train),\r\n",
        "          epochs=3,\r\n",
        "          validation_data=(x_valid, to_categorical(y_valid))\r\n",
        "          )"
      ],
      "execution_count": null,
      "outputs": [
        {
          "output_type": "stream",
          "text": [
            "Epoch 1/3\n",
            "1719/1719 [==============================] - 5s 3ms/step - loss: 0.8002 - accuracy: 0.7153 - val_loss: 0.4191 - val_accuracy: 0.8582\n",
            "Epoch 2/3\n",
            "1719/1719 [==============================] - 5s 3ms/step - loss: 0.4633 - accuracy: 0.8353 - val_loss: 0.3821 - val_accuracy: 0.8694\n",
            "Epoch 3/3\n",
            "1719/1719 [==============================] - 5s 3ms/step - loss: 0.4234 - accuracy: 0.8483 - val_loss: 0.3695 - val_accuracy: 0.8734\n"
          ],
          "name": "stdout"
        },
        {
          "output_type": "execute_result",
          "data": {
            "text/plain": [
              "<tensorflow.python.keras.callbacks.History at 0x7f30a819a4a8>"
            ]
          },
          "metadata": {
            "tags": []
          },
          "execution_count": 18
        }
      ]
    },
    {
      "cell_type": "code",
      "metadata": {
        "id": "18xI-N0oDRN5"
      },
      "source": [
        "# Fully-connected layers\r\n",
        "model = Sequential([\r\n",
        "                    Conv2D(num_filters, filter_size, input_shape=(28,28,1)),\r\n",
        "                    MaxPooling2D(pool_size),\r\n",
        "                    Flatten(),\r\n",
        "                    Dense(64, activation='relu'),\r\n",
        "                    Dense(10, activation='softmax'),\r\n",
        "])"
      ],
      "execution_count": null,
      "outputs": []
    },
    {
      "cell_type": "code",
      "metadata": {
        "id": "ACrqGXHtFY4F"
      },
      "source": [
        "model.compile(\r\n",
        "  'adam',\r\n",
        "  loss='categorical_crossentropy',\r\n",
        "  metrics=['accuracy'],\r\n",
        ")"
      ],
      "execution_count": null,
      "outputs": []
    },
    {
      "cell_type": "code",
      "metadata": {
        "colab": {
          "base_uri": "https://localhost:8080/"
        },
        "id": "fmbo3cnCFbKM",
        "outputId": "6fbb7ccd-af57-41c4-beca-84462116bdb0"
      },
      "source": [
        "model.fit(x_train,\r\n",
        "          to_categorical(y_train),\r\n",
        "          epochs=3,\r\n",
        "          validation_data=(x_valid, to_categorical(y_valid))\r\n",
        "          )"
      ],
      "execution_count": null,
      "outputs": [
        {
          "output_type": "stream",
          "text": [
            "Epoch 1/3\n",
            "1719/1719 [==============================] - 5s 3ms/step - loss: 0.6492 - accuracy: 0.7784 - val_loss: 0.3624 - val_accuracy: 0.8736\n",
            "Epoch 2/3\n",
            "1719/1719 [==============================] - 5s 3ms/step - loss: 0.3326 - accuracy: 0.8804 - val_loss: 0.3109 - val_accuracy: 0.8894\n",
            "Epoch 3/3\n",
            "1719/1719 [==============================] - 5s 3ms/step - loss: 0.2715 - accuracy: 0.9018 - val_loss: 0.2990 - val_accuracy: 0.8902\n"
          ],
          "name": "stdout"
        },
        {
          "output_type": "execute_result",
          "data": {
            "text/plain": [
              "<tensorflow.python.keras.callbacks.History at 0x7f30a27cd6a0>"
            ]
          },
          "metadata": {
            "tags": []
          },
          "execution_count": 21
        }
      ]
    },
    {
      "cell_type": "code",
      "metadata": {
        "id": "tXFbarPMFhgS"
      },
      "source": [
        "# Changing conv2d parameters\r\n",
        "num_filters = 8\r\n",
        "filter_size = 3\r\n",
        "\r\n",
        "model = Sequential([\r\n",
        "  Conv2D(\r\n",
        "    num_filters,\r\n",
        "    filter_size,\r\n",
        "    input_shape=(28, 28, 1),\r\n",
        "    strides=2,\r\n",
        "    padding='same',\r\n",
        "    activation='relu',\r\n",
        "  ),\r\n",
        "  MaxPooling2D(pool_size=pool_size),\r\n",
        "  Flatten(),\r\n",
        "  Dense(10, activation='softmax'),\r\n",
        "])"
      ],
      "execution_count": null,
      "outputs": []
    },
    {
      "cell_type": "code",
      "metadata": {
        "id": "tIEsjZQ4Fx5K"
      },
      "source": [
        "model.compile(\r\n",
        "  'adam',\r\n",
        "  loss='categorical_crossentropy',\r\n",
        "  metrics=['accuracy'],\r\n",
        ")"
      ],
      "execution_count": null,
      "outputs": []
    },
    {
      "cell_type": "code",
      "metadata": {
        "colab": {
          "base_uri": "https://localhost:8080/"
        },
        "id": "AuLjAzZyFzny",
        "outputId": "8e3b02e4-8a9e-4c2b-e6a8-5764a94198f5"
      },
      "source": [
        "model.fit(x_train,\r\n",
        "          to_categorical(y_train),\r\n",
        "          epochs=3,\r\n",
        "          validation_data=(x_valid, to_categorical(y_valid))\r\n",
        "          )"
      ],
      "execution_count": null,
      "outputs": [
        {
          "output_type": "stream",
          "text": [
            "Epoch 1/3\n",
            "1719/1719 [==============================] - 5s 3ms/step - loss: 0.8791 - accuracy: 0.7102 - val_loss: 0.4520 - val_accuracy: 0.8414\n",
            "Epoch 2/3\n",
            "1719/1719 [==============================] - 5s 3ms/step - loss: 0.4438 - accuracy: 0.8409 - val_loss: 0.4222 - val_accuracy: 0.8546\n",
            "Epoch 3/3\n",
            "1719/1719 [==============================] - 5s 3ms/step - loss: 0.4017 - accuracy: 0.8548 - val_loss: 0.4001 - val_accuracy: 0.8610\n"
          ],
          "name": "stdout"
        },
        {
          "output_type": "execute_result",
          "data": {
            "text/plain": [
              "<tensorflow.python.keras.callbacks.History at 0x7f30a26464a8>"
            ]
          },
          "metadata": {
            "tags": []
          },
          "execution_count": 24
        }
      ]
    },
    {
      "cell_type": "code",
      "metadata": {
        "colab": {
          "base_uri": "https://localhost:8080/"
        },
        "id": "WhElHlrCNf8S",
        "outputId": "4d36c693-168d-4f51-c05b-b95ba68c9d4c"
      },
      "source": [
        "# More complex CNN model \r\n",
        "\r\n",
        "model = tf.keras.Sequential()\r\n",
        "\r\n",
        "model.add(tf.keras.layers.Conv2D(filters=64, kernel_size=2, padding='same', activation='relu', input_shape=(28,28,1))) \r\n",
        "model.add(tf.keras.layers.MaxPooling2D(pool_size=2))\r\n",
        "model.add(tf.keras.layers.Dropout(0.3))\r\n",
        "\r\n",
        "model.add(tf.keras.layers.Conv2D(filters=32, kernel_size=2, padding='same', activation='relu'))\r\n",
        "model.add(tf.keras.layers.MaxPooling2D(pool_size=2))\r\n",
        "model.add(tf.keras.layers.Dropout(0.3))\r\n",
        "\r\n",
        "model.add(tf.keras.layers.Flatten())\r\n",
        "model.add(tf.keras.layers.Dense(256, activation='relu'))\r\n",
        "model.add(tf.keras.layers.Dropout(0.5))\r\n",
        "model.add(tf.keras.layers.Dense(10, activation='softmax'))\r\n",
        "\r\n",
        "model.summary()"
      ],
      "execution_count": null,
      "outputs": [
        {
          "output_type": "stream",
          "text": [
            "Model: \"sequential_5\"\n",
            "_________________________________________________________________\n",
            "Layer (type)                 Output Shape              Param #   \n",
            "=================================================================\n",
            "conv2d_6 (Conv2D)            (None, 28, 28, 64)        320       \n",
            "_________________________________________________________________\n",
            "max_pooling2d_5 (MaxPooling2 (None, 14, 14, 64)        0         \n",
            "_________________________________________________________________\n",
            "dropout_1 (Dropout)          (None, 14, 14, 64)        0         \n",
            "_________________________________________________________________\n",
            "conv2d_7 (Conv2D)            (None, 14, 14, 32)        8224      \n",
            "_________________________________________________________________\n",
            "max_pooling2d_6 (MaxPooling2 (None, 7, 7, 32)          0         \n",
            "_________________________________________________________________\n",
            "dropout_2 (Dropout)          (None, 7, 7, 32)          0         \n",
            "_________________________________________________________________\n",
            "flatten_5 (Flatten)          (None, 1568)              0         \n",
            "_________________________________________________________________\n",
            "dense_6 (Dense)              (None, 256)               401664    \n",
            "_________________________________________________________________\n",
            "dropout_3 (Dropout)          (None, 256)               0         \n",
            "_________________________________________________________________\n",
            "dense_7 (Dense)              (None, 10)                2570      \n",
            "=================================================================\n",
            "Total params: 412,778\n",
            "Trainable params: 412,778\n",
            "Non-trainable params: 0\n",
            "_________________________________________________________________\n"
          ],
          "name": "stdout"
        }
      ]
    },
    {
      "cell_type": "code",
      "metadata": {
        "id": "bHXzdiQROQRf"
      },
      "source": [
        "model.compile(loss='categorical_crossentropy',\r\n",
        "             optimizer='adam',\r\n",
        "             metrics=['accuracy'])"
      ],
      "execution_count": null,
      "outputs": []
    },
    {
      "cell_type": "code",
      "metadata": {
        "id": "hEyvqBd4PY5L"
      },
      "source": [
        "# Saving the best weights\r\n",
        "from keras.callbacks import ModelCheckpoint\r\n",
        "\r\n",
        "checkpointer = ModelCheckpoint(filepath='model.weights.best.hdf5', verbose = 1, save_best_only=True)"
      ],
      "execution_count": null,
      "outputs": []
    },
    {
      "cell_type": "code",
      "metadata": {
        "colab": {
          "base_uri": "https://localhost:8080/"
        },
        "id": "EjFCq9kdOTgK",
        "outputId": "1af0f6c2-0c7c-45a0-ffc9-42b1cf62163f"
      },
      "source": [
        "model.fit(x_train,\r\n",
        "         to_categorical(y_train),\r\n",
        "         epochs=10,\r\n",
        "         validation_data=(x_valid, to_categorical(y_valid)),\r\n",
        "         callbacks=[checkpointer])"
      ],
      "execution_count": null,
      "outputs": [
        {
          "output_type": "stream",
          "text": [
            "Epoch 1/10\n",
            "1719/1719 [==============================] - 7s 4ms/step - loss: 0.7478 - accuracy: 0.7237 - val_loss: 0.3429 - val_accuracy: 0.8750\n",
            "\n",
            "Epoch 00001: val_loss improved from inf to 0.34285, saving model to model.weights.best.hdf5\n",
            "Epoch 2/10\n",
            "1719/1719 [==============================] - 5s 3ms/step - loss: 0.4122 - accuracy: 0.8488 - val_loss: 0.2979 - val_accuracy: 0.8926\n",
            "\n",
            "Epoch 00002: val_loss improved from 0.34285 to 0.29789, saving model to model.weights.best.hdf5\n",
            "Epoch 3/10\n",
            "1719/1719 [==============================] - 6s 3ms/step - loss: 0.3497 - accuracy: 0.8715 - val_loss: 0.2688 - val_accuracy: 0.8994\n",
            "\n",
            "Epoch 00003: val_loss improved from 0.29789 to 0.26879, saving model to model.weights.best.hdf5\n",
            "Epoch 4/10\n",
            "1719/1719 [==============================] - 6s 3ms/step - loss: 0.3255 - accuracy: 0.8800 - val_loss: 0.2573 - val_accuracy: 0.9016\n",
            "\n",
            "Epoch 00004: val_loss improved from 0.26879 to 0.25734, saving model to model.weights.best.hdf5\n",
            "Epoch 5/10\n",
            "1719/1719 [==============================] - 6s 3ms/step - loss: 0.2987 - accuracy: 0.8909 - val_loss: 0.2490 - val_accuracy: 0.9084\n",
            "\n",
            "Epoch 00005: val_loss improved from 0.25734 to 0.24900, saving model to model.weights.best.hdf5\n",
            "Epoch 6/10\n",
            "1719/1719 [==============================] - 6s 3ms/step - loss: 0.2816 - accuracy: 0.8974 - val_loss: 0.2445 - val_accuracy: 0.9072\n",
            "\n",
            "Epoch 00006: val_loss improved from 0.24900 to 0.24452, saving model to model.weights.best.hdf5\n",
            "Epoch 7/10\n",
            "1719/1719 [==============================] - 6s 3ms/step - loss: 0.2772 - accuracy: 0.8967 - val_loss: 0.2358 - val_accuracy: 0.9104\n",
            "\n",
            "Epoch 00007: val_loss improved from 0.24452 to 0.23582, saving model to model.weights.best.hdf5\n",
            "Epoch 8/10\n",
            "1719/1719 [==============================] - 6s 3ms/step - loss: 0.2663 - accuracy: 0.9008 - val_loss: 0.2299 - val_accuracy: 0.9144\n",
            "\n",
            "Epoch 00008: val_loss improved from 0.23582 to 0.22994, saving model to model.weights.best.hdf5\n",
            "Epoch 9/10\n",
            "1719/1719 [==============================] - 6s 3ms/step - loss: 0.2650 - accuracy: 0.9017 - val_loss: 0.2222 - val_accuracy: 0.9120\n",
            "\n",
            "Epoch 00009: val_loss improved from 0.22994 to 0.22215, saving model to model.weights.best.hdf5\n",
            "Epoch 10/10\n",
            "1719/1719 [==============================] - 6s 3ms/step - loss: 0.2562 - accuracy: 0.9045 - val_loss: 0.2217 - val_accuracy: 0.9138\n",
            "\n",
            "Epoch 00010: val_loss improved from 0.22215 to 0.22172, saving model to model.weights.best.hdf5\n"
          ],
          "name": "stdout"
        },
        {
          "output_type": "execute_result",
          "data": {
            "text/plain": [
              "<tensorflow.python.keras.callbacks.History at 0x7f30a83fb828>"
            ]
          },
          "metadata": {
            "tags": []
          },
          "execution_count": 28
        }
      ]
    },
    {
      "cell_type": "code",
      "metadata": {
        "id": "fWK_QTo9O4Ig"
      },
      "source": [
        "# Load the weights with the best validation accuracy\r\n",
        "model.load_weights('model.weights.best.hdf5')"
      ],
      "execution_count": null,
      "outputs": []
    },
    {
      "cell_type": "code",
      "metadata": {
        "colab": {
          "base_uri": "https://localhost:8080/"
        },
        "id": "OcPgcYM_Ojfx",
        "outputId": "37a9447a-6903-445f-b5d5-5339224ce3b7"
      },
      "source": [
        "# Evaluate the model on test set\r\n",
        "score = model.evaluate(x_test, to_categorical(y_test), verbose=0)\r\n",
        "\r\n",
        "# Print test accuracy\r\n",
        "print('\\n', 'Test accuracy:', score[1])"
      ],
      "execution_count": null,
      "outputs": [
        {
          "output_type": "stream",
          "text": [
            "\n",
            " Test accuracy: 0.9097999930381775\n"
          ],
          "name": "stdout"
        }
      ]
    },
    {
      "cell_type": "code",
      "metadata": {
        "colab": {
          "base_uri": "https://localhost:8080/",
          "height": 485
        },
        "id": "LJVEgNFWV30g",
        "outputId": "133ffb91-d58b-48d1-e6e6-44f64a660fdd"
      },
      "source": [
        "#visualize prediction (first 15 examples)\r\n",
        "y_hat = model.predict(x_test)\r\n",
        "\r\n",
        "# Plot a random sample of 15 test images, their predicted labels and ground truth\r\n",
        "figure = plt.figure(figsize=(20, 8))\r\n",
        "for i, index in enumerate(np.random.choice(x_test.shape[0], size=15, replace=False)):\r\n",
        "    ax = figure.add_subplot(3, 5, i + 1, xticks=[], yticks=[])\r\n",
        "    # Display each image\r\n",
        "    ax.imshow(np.squeeze(x_test[index]))\r\n",
        "    predict_index = np.argmax(y_hat[index])\r\n",
        "    true_index = np.argmax(y_test[index])\r\n",
        "    # Set the title for each image\r\n",
        "    ax.set_title(\"{} ({})\".format(fashion_mnist_labels[predict_index], \r\n",
        "                                  fashion_mnist_labels[true_index]),\r\n",
        "                                  color=(\"green\" if predict_index == true_index else \"red\"))"
      ],
      "execution_count": null,
      "outputs": [
        {
          "output_type": "display_data",
          "data": {
            "image/png": "[encoded data removed]",
            "text/plain": [
              "<Figure size 1440x576 with 15 Axes>"
            ]
          },
          "metadata": {
            "tags": []
          }
        }
      ]
    }
  ]
}